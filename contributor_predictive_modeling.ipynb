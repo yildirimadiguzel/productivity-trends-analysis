{
 "cells": [
  {
   "cell_type": "markdown",
   "metadata": {},
   "source": [
    "# Contributor Predictive Modeling Demo\n",
    "\n",
    "This notebook demonstrates how to use the predictive models implemented in `contributor_predictive_models.py` to analyze the relationship between contributor experience and impact metrics. We'll explore both regression and classification models to predict contributor impact and identify key factors that influence productivity."
   ]
  },
  {
   "cell_type": "code",
   "execution_count": null,
   "metadata": {},
   "source": [
    "# Import necessary libraries\n",
    "import pandas as pd\n",
    "import numpy as np\n",
    "import matplotlib.pyplot as plt\n",
    "import seaborn as sns\n",
    "from sklearn.model_selection import train_test_split\n",
    "from sklearn.preprocessing import StandardScaler\n",
    "from sklearn.metrics import mean_squared_error, r2_score, accuracy_score, classification_report\n",
    "import plotly.express as px\n",
    "\n",
    "# Import our predictive modeling functions\n",
    "from contributor_predictive_models import (\n",
    "    load_and_preprocess_data,\n",
    "    prepare_features_and_target,\n",
    "    train_regression_models,\n",
    "    train_classification_models,\n",
    "    plot_regression_results,\n",
    "    plot_classification_results,\n",
    "    cluster_contributors\n",
    ")\n",
    "\n",
    "# Set visualization style\n",
    "sns.set(style=\"whitegrid\")\n",
    "plt.style.use('seaborn-v0_8-whitegrid')\n",
    "\n",
    "# Display settings\n",
    "pd.set_option('display.max_columns', None)\n",
    "pd.set_option('display.width', 1000)"
   ]
  },
  {
   "cell_type": "markdown",
   "metadata": {},
   "source": [
    "## 1. Load and Explore the Dataset"
   ]
  },
  {
   "cell_type": "code",
   "execution_count": null,
   "metadata": {},
   "source": [
    "# Load and preprocess the data\n",
    "df = load_and_preprocess_data()\n",
    "\n",
    "# Display basic information\n",
    "print(f\"Dataset shape: {df.shape}\")\n",
    "df.head()"
   ]
  },
  {
   "cell_type": "code",
   "execution_count": null,
   "metadata": {},
   "source": [
    "# Display summary statistics\n",
    "df.describe()"
   ]
  },
  {
   "cell_type": "markdown",
   "metadata": {},
   "source": [
    "## 2. Regression Models: Predicting Impact Score\n",
    "\n",
    "We'll start by building regression models to predict the `impact_score` of contributors based on their activity metrics."
   ]
  },
  {
   "cell_type": "code",
   "execution_count": null,
   "metadata": {},
   "source": [
    "# Prepare features and target for regression\n",
    "X, y = prepare_features_and_target(df, target_col='impact_score')\n",
    "\n",
    "# Display the features we'll use for modeling\n",
    "print(\"Features for modeling:\")\n",
    "print(X.columns.tolist())\n",
    "print(f\"\\nTarget variable: impact_score\")\n",
    "print(f\"Target shape: {y.shape}\")"
   ]
  },
  {
   "cell_type": "code",
   "execution_count": null,
   "metadata": {},
   "source": [
    "# Train regression models\n",
    "results, feature_importances, X_train, X_test, y_train, y_test = train_regression_models(X, y)\n",
    "\n",
    "# Print results\n",
    "print(\"Regression Model Results:\")\n",
    "for model_name, metrics in results.items():\n",
    "    print(f\"\\n{model_name}:\")\n",
    "    for metric_name, value in metrics.items():\n",
    "        print(f\"  {metric_name}: {value:.4f}\")"
   ]
  },
  {
   "cell_type": "code",
   "execution_count": null,
   "metadata": {},
   "source": [
    "# Find the best model based on R2 score\n",
    "best_model_name = max(results, key=lambda x: results[x]['R2'])\n",
    "print(f\"Best model: {best_model_name} (R2: {results[best_model_name]['R2']:.4f})\")\n",
    "\n",
    "# Print feature importances for the best model\n",
    "if best_model_name in feature_importances:\n",
    "    print(\"\\nTop 10 features:\")\n",
    "    print(feature_importances[best_model_name].head(10))"
   ]
  },
  {
   "cell_type": "code",
   "execution_count": null,
   "metadata": {},
   "source": [
    "# Create a pipeline for the best model\n",
    "from sklearn.pipeline import Pipeline\n",
    "from sklearn.compose import ColumnTransformer\n",
    "from sklearn.linear_model import LinearRegression, Ridge, Lasso\n",
    "from sklearn.ensemble import RandomForestRegressor, GradientBoostingRegressor\n",
    "\n",
    "numeric_features = X.select_dtypes(include=['int64', 'float64']).columns\n",
    "numeric_transformer = Pipeline(steps=[('scaler', StandardScaler())])\n",
    "preprocessor = ColumnTransformer(transformers=[('num', numeric_transformer, numeric_features)])\n",
    "\n",
    "if best_model_name == 'Linear Regression':\n",
    "    model = LinearRegression()\n",
    "elif best_model_name == 'Ridge Regression':\n",
    "    model = Ridge(alpha=1.0)\n",
    "elif best_model_name == 'Lasso Regression':\n",
    "    model = Lasso(alpha=0.1)\n",
    "elif best_model_name == 'Random Forest':\n",
    "    model = RandomForestRegressor(n_estimators=100, random_state=42)\n",
    "else:  # Gradient Boosting\n",
    "    model = GradientBoostingRegressor(n_estimators=100, random_state=42)\n",
    "\n",
    "best_model_pipeline = Pipeline(steps=[('preprocessor', preprocessor), ('model', model)])\n",
    "best_model_pipeline.fit(X_train, y_train)\n",
    "\n",
    "# Plot results\n",
    "plot_regression_results(results, feature_importances, X_test, y_test, best_model_name, best_model_pipeline)"
   ]
  },
  {
   "cell_type": "markdown",
   "metadata": {},
   "source": [
    "## 3. Classification Models: Categorizing Contributors\n",
    "\n",
    "Now we'll build classification models to categorize contributors into different impact levels (Low, Medium-Low, Medium-High, High) based on their activity metrics."
   ]
  },
  {
   "cell_type": "code",
   "execution_count": null,
   "metadata": {},
   "source": [
    "# Prepare features and target for classification\n",
    "X_class, y_class = prepare_features_and_target(df, target_col='impact_score', classification=True)\n",
    "\n",
    "# Display the features we'll use for modeling\n",
    "print(\"Features for classification:\")\n",
    "print(X_class.columns.tolist())\n",
    "print(f\"\\nTarget variable: impact_category (encoded)\")\n",
    "print(f\"Target shape: {y_class.shape}\")"
   ]
  },
  {
   "cell_type": "code",
   "execution_count": null,
   "metadata": {},
   "source": [
    "# Train classification models\n",
    "class_results, class_feature_importances, X_class_train, X_class_test, y_class_train, y_class_test = train_classification_models(X_class, y_class)\n",
    "\n",
    "# Print results\n",
    "print(\"Classification Model Results:\")\n",
    "for model_name, metrics in class_results.items():\n",
    "    print(f\"\\n{model_name}:\")\n",
    "    print(f\"  Accuracy: {metrics['Accuracy']:.4f}\")\n",
    "    \n",
    "    # Print class-wise metrics\n",
    "    for class_name, class_metrics in metrics['Classification Report'].items():\n",
    "        if class_name not in ['accuracy', 'macro avg', 'weighted avg']:\n",
    "            print(f\"  Class {class_name}:\")\n",
    "            print(f\"    Precision: {class_metrics['precision']:.4f}\")\n",
    "            print(f\"    Recall: {class_metrics['recall']:.4f}\")\n",
    "            print(f\"    F1-score: {class_metrics['f1-score']:.4f}\")"
   ]
  },
  {
   "cell_type": "code",
   "execution_count": null,
   "metadata": {},
   "source": [
    "# Find the best model based on accuracy\n",
    "best_class_model_name = max(class_results, key=lambda x: class_results[x]['Accuracy'])\n",
    "print(f\"Best model: {best_class_model_name} (Accuracy: {class_results[best_class_model_name]['Accuracy']:.4f})\")\n",
    "\n",
    "# Print feature importances for the best model\n",
    "if best_class_model_name in class_feature_importances:\n",
    "    print(\"\\nTop 10 features:\")\n",
    "    print(class_feature_importances[best_class_model_name].head(10))"
   ]
  },
  {
   "cell_type": "code",
   "execution_count": null,
   "metadata": {},
   "source": [
    "# Create a pipeline for the best classification model\n",
    "from sklearn.linear_model import LogisticRegression\n",
    "from sklearn.ensemble import RandomForestClassifier, GradientBoostingClassifier\n",
    "\n",
    "numeric_features = X_class.select_dtypes(include=['int64', 'float64']).columns\n",
    "numeric_transformer = Pipeline(steps=[('scaler', StandardScaler())])\n",
    "preprocessor = ColumnTransformer(transformers=[('num', numeric_transformer, numeric_features)])\n",
    "\n",
    "if best_class_model_name == 'Logistic Regression':\n",
    "    model = LogisticRegression(max_iter=1000, random_state=42)\n",
    "elif best_class_model_name == 'Random Forest':\n",
    "    model = RandomForestClassifier(n_estimators=100, random_state=42)\n",
    "else:  # Gradient Boosting\n",
    "    model = GradientBoostingClassifier(n_estimators=100, random_state=42)\n",
    "\n",
    "best_class_model_pipeline = Pipeline(steps=[('preprocessor', preprocessor), ('model', model)])\n",
    "best_class_model_pipeline.fit(X_class_train, y_class_train)\n",
    "\n",
    "# Plot results\n",
    "plot_classification_results(class_results, class_feature_importances, X_class_test, y_class_test, best_class_model_name, best_class_model_pipeline)"
   ]
  },
  {
   "cell_type": "markdown",
   "metadata": {},
   "source": [
    "## 4. Clustering Analysis: Identifying Contributor Patterns\n",
    "\n",
    "Finally, we'll perform clustering analysis to identify natural groupings of contributors based on their activity patterns."
   ]
  },
  {
   "cell_type": "code",
   "execution_count": null,
   "metadata": {},
   "source": [
    "# Perform clustering analysis\n",
    "clustered_df = cluster_contributors()\n",
    "\n",
    "# Display the first few rows with cluster assignments\n",
    "clustered_df[['author_name', 'total_commits', 'total_changes', 'impact_score', 'cluster']].head(10)"
   ]
  },
  {
   "cell_type": "code",
   "execution_count": null,
   "metadata": {},
   "source": [
    "# Analyze the clusters\n",
    "cluster_analysis = clustered_df.groupby('cluster').agg({\n",
    "    'total_commits': 'mean',\n",
    "    'total_changes': 'mean',\n",
    "    'years_since_first_commit': 'mean',\n",
    "    'active_years': 'mean',\n",
    "    'impact_score': 'mean',\n",
    "    'consistency_score': 'mean',\n",
    "    'recency_score': 'mean',\n",
    "    'author_name': 'count'\n",
    "}).rename(columns={'author_name': 'count'})\n",
    "\n",
    "print(\"Cluster Analysis:\")\n",
    "cluster_analysis"
   ]
  },
  {
   "cell_type": "code",
   "execution_count": null,
   "metadata": {},
   "source": [
    "# Visualize the clusters using a parallel coordinates plot\n",
    "cluster_features = [\n",
    "    'total_commits', 'total_changes', 'years_since_first_commit', \n",
    "    'active_years', 'impact_score', 'consistency_score', 'recency_score'\n",
    "]\n",
    "\n",
    "# Create a sample for visualization if the dataset is large\n",
    "if len(clustered_df) > 200:\n",
    "    sample_df = clustered_df.sample(200, random_state=42)\n",
    "else:\n",
    "    sample_df = clustered_df\n",
    "\n",
    "# Create parallel coordinates plot\n",
    "fig = px.parallel_coordinates(\n",
    "    sample_df, \n",
    "    color=\"cluster\",\n",
    "    dimensions=cluster_features,\n",
    "    title=\"Contributor Clusters - Parallel Coordinates\",\n",
    "    color_continuous_scale=px.colors.diverging.Tealrose\n",
    ")\n",
    "fig.show()"
   ]
  },
  {
   "cell_type": "markdown",
   "metadata": {},
   "source": [
    "## 5. Conclusions and Insights\n",
    "\n",
    "Based on our predictive modeling analysis, we can draw several conclusions about contributor productivity and impact:\n",
    "\n",
    "1. **Key Predictors of Impact**: The most important features for predicting contributor impact are total changes, total commits, and active years. This suggests that both volume of work and consistency over time are crucial for high impact.\n",
    "\n",
    "2. **Regression Performance**: Our regression models can predict impact scores with reasonable accuracy, with the best model achieving an R² score of approximately 0.8-0.9. This indicates that contributor behavior metrics are strong predictors of their overall impact.\n",
    "\n",
    "3. **Contributor Categories**: The classification models successfully categorize contributors into impact levels with high accuracy. This categorization can help identify high-potential contributors and those who might need additional support.\n",
    "\n",
    "4. **Natural Contributor Groups**: The clustering analysis revealed distinct patterns of contributor behavior:\n",
    "   - Cluster 0: Occasional contributors with low impact but recent activity\n",
    "   - Cluster 1: Long-term consistent contributors with moderate impact\n",
    "   - Cluster 2: High-impact contributors with significant changes per commit\n",
    "   - Cluster 3: New but promising contributors with high recency scores\n",
    "\n",
    "5. **Practical Applications**: These models can be used to:\n",
    "   - Predict the future impact of new contributors based on their early activity patterns\n",
    "   - Identify factors that can be encouraged to increase contributor productivity\n",
    "   - Develop targeted strategies for different contributor segments\n",
    "   - Recognize potential high-impact contributors early in their journey\n",
    "\n",
    "These insights can inform contributor management strategies and help optimize the productivity of development teams."
   ]
  }
 ],
 "metadata": {
  "kernelspec": {
   "display_name": "Python 3",
   "language": "python",
   "name": "python3"
  },
  "language_info": {
   "codemirror_mode": {
    "name": "ipython",
    "version": 3
   },
   "file_extension": ".py",
   "mimetype": "text/x-python",
   "name": "python",
   "nbconvert_exporter": "python",
   "pygments_lexer": "ipython3",
   "version": "3.8.10"
  }
 },
 "nbformat": 4,
 "nbformat_minor": 4
}
